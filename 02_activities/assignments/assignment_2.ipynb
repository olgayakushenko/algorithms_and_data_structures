{
 "cells": [
  {
   "cell_type": "markdown",
   "metadata": {},
   "source": [
    "# Practice Interview\n",
    "\n",
    "## Objective\n",
    "\n",
    "_*The partner assignment aims to provide participants with the opportunity to practice coding in an interview context. You will analyze your partner's Assignment 1. Moreover, code reviews are common practice in a software development team. This assignment should give you a taste of the code review process.*_\n",
    "\n",
    "## Group Size\n",
    "\n",
    "Each group should have 2 people. You will be assigned a partner\n",
    "\n",
    "## Part 1:\n",
    "\n",
    "You and your partner must share each other's Assignment 1 submission."
   ]
  },
  {
   "cell_type": "markdown",
   "metadata": {},
   "source": [
    "\n",
    "## Part 2:\n",
    "\n",
    "Create a Jupyter Notebook, create 6 of the following headings, and complete the following for your partner's assignment 1:\n",
    "\n",
    "-   Paraphrase the problem in your own words.\n"
   ]
  },
  {
   "cell_type": "code",
   "execution_count": null,
   "metadata": {},
   "outputs": [],
   "source": [
    "# Your answer here\n",
    "# Starting from the root of a binary tree, find out if there are any duplicate values. \n",
    "# If duplicates are found, return the value of the duplicate that is nearest to the root. \n",
    "# If no duplicates exist, return -1."
   ]
  },
  {
   "cell_type": "markdown",
   "metadata": {},
   "source": [
    "\n",
    "-   Create 1 new example that demonstrates you understand the problem. Trace/walkthrough 1 example that your partner made and explain it.\n"
   ]
  },
  {
   "cell_type": "code",
   "execution_count": 6,
   "metadata": {},
   "outputs": [
    {
     "name": "stdout",
     "output_type": "stream",
     "text": [
      "3\n",
      "2\n"
     ]
    }
   ],
   "source": [
    "# Your answer here\n",
    "\n",
    "# My example: Input: root = [5, 6, 3, 1, 8] Output: 3\n",
    "root = TreeNode(5)\n",
    "root.left = TreeNode(6)\n",
    "root.right = TreeNode(3)\n",
    "root.left.left = TreeNode(1)\n",
    "root.left.right = TreeNode(3)\n",
    "# print_in_order(root)\n",
    "print(is_duplicate(root))\n",
    "\n",
    "# My partner's Example 1 Input: root = [10, 7, 2, 7, 3, 5, 2], output = 2\n",
    "root = TreeNode(4)\n",
    "root.left = TreeNode(7)\n",
    "root.right = TreeNode(2)\n",
    "root.left.left = TreeNode(11)\n",
    "root.left.right = TreeNode(12)\n",
    "root.right.left = TreeNode(5)\n",
    "root.right.left.right = TreeNode(2)\n",
    "root.right.left.left = TreeNode(14)\n",
    "# print_in_order(root)\n",
    "print(is_duplicate(root))\n",
    "\n",
    "#Please find the attached image with trace of the my partners 1 example.\n",
    "#I think that the output is correct, but for the input the code doesn't match with the description"
   ]
  },
  {
   "attachments": {
    "image.png": {
     "image/png": "[encoded data removed]"
    }
   },
   "cell_type": "markdown",
   "metadata": {},
   "source": [
    "![image.png](attachment:image.png)"
   ]
  },
  {
   "cell_type": "markdown",
   "metadata": {},
   "source": [
    "\n",
    "-   Copy the solution your partner wrote. \n"
   ]
  },
  {
   "cell_type": "code",
   "execution_count": 4,
   "metadata": {},
   "outputs": [],
   "source": [
    "# Your answer here\n",
    "from collections import deque\n",
    "class TreeNode(object):\n",
    "  def __init__(self, val = 0, left = None, right = None):\n",
    "    self.val = val\n",
    "    self.left = left\n",
    "    self.right = right\n",
    "\n",
    "def is_duplicate(root: TreeNode) -> int:\n",
    "  if not root:\n",
    "    return -1\n",
    "  queue = deque([root])\n",
    "  seen_values = set() \n",
    "  while queue:\n",
    "    node = queue.popleft()\n",
    "    if node.val in seen_values:\n",
    "    # if value is seen already return as duplicate \n",
    "      return node.val\n",
    "    seen_values.add(node.val)\n",
    "    if node.left:\n",
    "      queue.append(node.left)\n",
    "    if node.right:\n",
    "      queue.append(node.right)\n",
    "  return -1"
   ]
  },
  {
   "cell_type": "markdown",
   "metadata": {},
   "source": [
    "\n",
    "-   Explain why their solution works in your own words.\n"
   ]
  },
  {
   "cell_type": "code",
   "execution_count": null,
   "metadata": {},
   "outputs": [],
   "source": [
    "# Your answer here\n",
    "#This function efficiently checks for duplicates using BFS:\n",
    "\n",
    "#It ensures each node's value is checked only once (using the seen_values set).\n",
    "#It returns the value of the first duplicate encountered closest to the root.\n",
    "#If no duplicates exist, it returns -1.\n"
   ]
  },
  {
   "cell_type": "markdown",
   "metadata": {},
   "source": [
    "\n",
    "-   Explain the problem’s time and space complexity in your own words.\n"
   ]
  },
  {
   "cell_type": "code",
   "execution_count": null,
   "metadata": {},
   "outputs": [],
   "source": [
    "# Your answer here\n",
    "# this approach runs in O(n) time complexity, where n is the number of nodes in the tree, because each node is processed once in the BFS traversal.\n",
    "# The space complexity is also O(n) due to the queue and the set used for storing visited values."
   ]
  },
  {
   "cell_type": "markdown",
   "metadata": {},
   "source": [
    "\n",
    "-   Critique your partner's solution, including explanation, and if there is anything that should be adjusted.\n"
   ]
  },
  {
   "cell_type": "code",
   "execution_count": null,
   "metadata": {},
   "outputs": [],
   "source": [
    "# Your answer here\n",
    "# was not able to run the copied code, added \"from collections import deque\" so I could run it.\n",
    "# The code could benefit from more comments explaining the logic and edge cases handled. \n",
    "# For example, clarifying why certain operations are performed or how edge cases are being checked can improve maintainability.\n",
    "# The space complexity could be improved. Currently, it uses additional space for the queue (queue) and the set (seen_values). \n",
    "# In the worst case, both of these can consume O(n) space (considering a completely unbalanced tree). \n",
    "# This might be excessive for very large trees or in memory-constrained environments."
   ]
  },
  {
   "cell_type": "markdown",
   "metadata": {},
   "source": [
    "\n",
    "## Part 3:\n",
    "\n",
    "Please write a 200 word reflection documenting your process from assignment 1, and your presentation and review experience with your partner at the bottom of the Jupyter Notebook under a new heading \"Reflection.\" Again, export this Notebook as pdf.\n"
   ]
  },
  {
   "cell_type": "markdown",
   "metadata": {},
   "source": [
    "### Reflection"
   ]
  },
  {
   "cell_type": "code",
   "execution_count": null,
   "metadata": {},
   "outputs": [],
   "source": [
    "# Your answer here\n",
    "\n",
    "# Handling the assignment where I identified missing numbers in a list of integers ranging from 0 to n was a rewarding experience. \n",
    "# Initially, I approached it by using a set to efficiently track numbers present in the list, and then iteratively checked for missing numbers within the expected range. \n",
    "# This method ensured clarity and accuracy, especially in handling duplicate values. \n",
    "# Reflecting on the process, I found it crucial to consider edge cases such as when the list is empty or when no numbers are missing. \n",
    "# This task enhanced my skills in algorithmic thinking and reinforced the importance of thorough testing to cover all possible scenarios.\n",
    "\n",
    "# Reviewing my partner's assignment on checking for duplicates in a binary tree using a BFS approach was insightful. \n",
    "# The solution demonstrated clarity in its approach, effectively leveraging BFS to ensure all nodes are visited and potential duplicates are identified early. \n",
    "# However, I noted areas for improvement, such as space complexity optimization and ensuring strict adherence to the problem's requirement of returning the closest duplicate to the root.\n",
    "# Through this process, I deepened my understanding of BFS applications in tree structures and gained insights into enhancing algorithm efficiency and alignment with specific problem constraints."
   ]
  },
  {
   "cell_type": "markdown",
   "metadata": {},
   "source": [
    "\n",
    "## Evaluation Criteria\n",
    "\n",
    "We are looking for the similar points as Assignment 1\n",
    "\n",
    "-   Problem is accurately stated\n",
    "\n",
    "-   New example is correct and easily understandable\n",
    "\n",
    "-   Correctness, time, and space complexity of the coding solution\n",
    "\n",
    "-   Clarity in explaining why the solution works, its time and space complexity\n",
    "\n",
    "-   Quality of critique of your partner's assignment, if necessary\n"
   ]
  },
  {
   "cell_type": "markdown",
   "metadata": {},
   "source": [
    "## Submission Information\n",
    "\n",
    "🚨 **Please review our [Assignment Submission Guide](https://github.com/UofT-DSI/onboarding/blob/main/onboarding_documents/submissions.md)** 🚨 for detailed instructions on how to format, branch, and submit your work. Following these guidelines is crucial for your submissions to be evaluated correctly.\n",
    "\n",
    "### Submission Parameters:\n",
    "* Submission Due Date: `HH:MM AM/PM - DD/MM/YYYY`\n",
    "* The branch name for your repo should be: `assignment-2`\n",
    "* What to submit for this assignment:\n",
    "    * This Jupyter Notebook (assignment_2.ipynb) should be populated and should be the only change in your pull request.\n",
    "* What the pull request link should look like for this assignment: `https://github.com/<your_github_username>/algorithms_and_data_structures/pull/<pr_id>`\n",
    "    * Open a private window in your browser. Copy and paste the link to your pull request into the address bar. Make sure you can see your pull request properly. This helps the technical facilitator and learning support staff review your submission easily.\n",
    "\n",
    "Checklist:\n",
    "- [ ] Created a branch with the correct naming convention.\n",
    "- [ ] Ensured that the repository is public.\n",
    "- [ ] Reviewed the PR description guidelines and adhered to them.\n",
    "- [ ] Verify that the link is accessible in a private browser window.\n",
    "\n",
    "If you encounter any difficulties or have questions, please don't hesitate to reach out to our team via our Slack at `#cohort-3-help`. Our Technical Facilitators and Learning Support staff are here to help you navigate any challenges.\n"
   ]
  }
 ],
 "metadata": {
  "kernelspec": {
   "display_name": "dsi_participant",
   "language": "python",
   "name": "python3"
  },
  "language_info": {
   "codemirror_mode": {
    "name": "ipython",
    "version": 3
   },
   "file_extension": ".py",
   "mimetype": "text/x-python",
   "name": "python",
   "nbconvert_exporter": "python",
   "pygments_lexer": "ipython3",
   "version": "3.9.19"
  }
 },
 "nbformat": 4,
 "nbformat_minor": 2
}
